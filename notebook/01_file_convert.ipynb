{
 "cells": [
  {
   "cell_type": "code",
   "execution_count": 1,
   "id": "ae2b403f",
   "metadata": {},
   "outputs": [],
   "source": [
    "# Import packages\n",
    "import os\n",
    "import numpy as np\n",
    "import pandas as pd\n",
    "from os import listdir\n",
    "from os.path import isfile, join\n",
    "from flirextractor import FlirExtractor\n",
    "from matplotlib import pyplot as plt\n",
    "from PIL import Image"
   ]
  },
  {
   "cell_type": "code",
   "execution_count": 2,
   "id": "4e0b1cea",
   "metadata": {},
   "outputs": [
    {
     "name": "stdout",
     "output_type": "stream",
     "text": [
      "Type of converted image: <class 'numpy.ndarray'>\n",
      "Converted image shape: (240, 320)\n"
     ]
    }
   ],
   "source": [
    "# Convert jpeg file to csv: single image example\n",
    "image_path = '../data/original/2022-08-03/view_1/snap-2022-08-03T13-48-18.19.jpeg'\n",
    "with FlirExtractor() as extractor:\n",
    "    convert_image = extractor.get_thermal(image_path)\n",
    "    \n",
    "print(f'Type of converted image: {type(convert_image)}')\n",
    "print(f'Converted image shape: {convert_image.shape}')"
   ]
  },
  {
   "cell_type": "code",
   "execution_count": 3,
   "id": "8157db64",
   "metadata": {},
   "outputs": [],
   "source": [
    "# Convert jpeg file to csv: batch processing for a view\n",
    "load_path = '../data/original/2022-08-03/view_1'\n",
    "save_path = '../data/processed/2022-08-03/view_1'\n",
    "\n",
    "files = [f for f in listdir(load_path) if isfile(join(load_path, f))]\n",
    "for i in files:\n",
    "    with FlirExtractor() as extractor:\n",
    "        thermal_data = extractor.get_thermal(f'{load_path}/{i}')\n",
    "        np.savetxt(f'{save_path}/{i[:-5]}.csv', thermal_data, delimiter=',')"
   ]
  },
  {
   "cell_type": "code",
   "execution_count": 4,
   "id": "b8855277",
   "metadata": {},
   "outputs": [],
   "source": [
    "# Convert jpeg file to csv: batch processing for the whole original dataset\n",
    "load_path = '../data/original'\n",
    "save_path = '../data/processed'\n",
    "\n",
    "for date in os.listdir(load_path):\n",
    "    for view in ['view_1', 'view_2', 'view_3']:\n",
    "        load_path_view = os.path.join(load_path, date, view)\n",
    "        save_path_view = os.path.join(save_path, date, view)\n",
    "        \n",
    "        # Check if the save path exist\n",
    "        if not os.path.isdir(save_path_view):\n",
    "            os.makedirs(save_path_view)\n",
    "        \n",
    "        # Convert files\n",
    "        files = [f for f in listdir(load_path_view) if isfile(join(load_path_view, f))]\n",
    "        for i in files:\n",
    "            with FlirExtractor() as extractor:\n",
    "                thermal_data = extractor.get_thermal(f'{load_path_view}/{i}')\n",
    "                np.savetxt(f'{save_path_view}/{i[:-5]}.csv', thermal_data, delimiter=',')"
   ]
  }
 ],
 "metadata": {
  "kernelspec": {
   "display_name": "Python 3 (ipykernel)",
   "language": "python",
   "name": "python3"
  },
  "language_info": {
   "codemirror_mode": {
    "name": "ipython",
    "version": 3
   },
   "file_extension": ".py",
   "mimetype": "text/x-python",
   "name": "python",
   "nbconvert_exporter": "python",
   "pygments_lexer": "ipython3",
   "version": "3.10.4"
  },
  "varInspector": {
   "cols": {
    "lenName": 16,
    "lenType": 16,
    "lenVar": 40
   },
   "kernels_config": {
    "python": {
     "delete_cmd_postfix": "",
     "delete_cmd_prefix": "del ",
     "library": "var_list.py",
     "varRefreshCmd": "print(var_dic_list())"
    },
    "r": {
     "delete_cmd_postfix": ") ",
     "delete_cmd_prefix": "rm(",
     "library": "var_list.r",
     "varRefreshCmd": "cat(var_dic_list()) "
    }
   },
   "types_to_exclude": [
    "module",
    "function",
    "builtin_function_or_method",
    "instance",
    "_Feature"
   ],
   "window_display": false
  }
 },
 "nbformat": 4,
 "nbformat_minor": 5
}
